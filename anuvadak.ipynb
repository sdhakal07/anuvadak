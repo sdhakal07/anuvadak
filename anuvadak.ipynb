{
 "cells": [
  {
   "cell_type": "markdown",
   "metadata": {
    "id": "VEiDlXiQcFS9"
   },
   "source": [
    "# English to Nepali translation using Transformer Based Model\n",
    "\n",
    "This notebook builds a basic **Encoder-Decoder** variant of the Transformer architecture from scratch (Multi-Head Attention, Scaled Dot-Product Attention and Causal Masking included) in TensorFlow.\n",
    "\n",
    "It serves to understand how each part of the Transformer works and how they all fit together.\n",
    "\n",
    "The Transformer is then tested on a simple seq2seq task : **translating sentences from English to Nepali**.   "
   ]
  },
  {
   "cell_type": "code",
   "execution_count": 1,
   "metadata": {
    "id": "cLFegv5fcFTA"
   },
   "outputs": [],
   "source": [
    "import os\n",
    "import pandas as pd\n",
    "import random\n",
    "import matplotlib.pyplot as plt\n",
    "import keras\n",
    "import tensorflow as tf\n",
    "import string\n",
    "import re\n",
    "import numpy as np"
   ]
  },
  {
   "cell_type": "code",
   "execution_count": 2,
   "metadata": {
    "colab": {
     "base_uri": "https://localhost:8080/"
    },
    "id": "vGOB9mWXcFTC",
    "outputId": "1aa8c19c-fcf1-4a42-f3dd-30768d9015b7"
   },
   "outputs": [
    {
     "name": "stdout",
     "output_type": "stream",
     "text": [
      "Tensor Flow Version: 2.10.1\n"
     ]
    }
   ],
   "source": [
    "print(f\"Tensor Flow Version: {tf.__version__}\")"
   ]
  },
  {
   "cell_type": "code",
   "execution_count": 3,
   "metadata": {
    "colab": {
     "base_uri": "https://localhost:8080/"
    },
    "id": "rBlWu_vucFTD",
    "outputId": "cc659ef1-e01b-4054-aa77-a7c9154328e9"
   },
   "outputs": [
    {
     "name": "stdout",
     "output_type": "stream",
     "text": [
      "GPU: [PhysicalDevice(name='/physical_device:GPU:0', device_type='GPU')]\n"
     ]
    }
   ],
   "source": [
    "gpu = tf.config.list_physical_devices('GPU')\n",
    "print(f\"GPU: {gpu}\")"
   ]
  },
  {
   "cell_type": "code",
   "execution_count": 4,
   "metadata": {
    "colab": {
     "base_uri": "https://localhost:8080/"
    },
    "id": "Gf3ppQaOcexi",
    "outputId": "d9ec881c-42ab-4517-cb87-86388edc30e3"
   },
   "outputs": [
    {
     "name": "stdout",
     "output_type": "stream",
     "text": [
      "current working directory: C:\\Users\\Leapfrog\\Downloads\n"
     ]
    }
   ],
   "source": [
    "print(f\"current working directory: {os.getcwd()}\")"
   ]
  },
  {
   "cell_type": "markdown",
   "metadata": {
    "id": "mZ4qOz6BcFTD"
   },
   "source": [
    "# Preparing the data"
   ]
  },
  {
   "cell_type": "markdown",
   "metadata": {
    "id": "0cbY_O-KcFTD"
   },
   "source": [
    "<div style=\"color:#000; display:fill; border-radius:8px; background-color:#000; font-size:125%;\">\n",
    "    <p style=\"padding: 8px 12px 8px 12px; color:#fff;\"><b>Reading the data</b></p>\n",
    "</div>"
   ]
  },
  {
   "cell_type": "code",
   "execution_count": 5,
   "metadata": {
    "colab": {
     "base_uri": "https://localhost:8080/",
     "height": 363
    },
    "id": "bCCO-9yEcFTE",
    "outputId": "4c7facd3-5cda-4252-cc25-2183fe1e2125"
   },
   "outputs": [
    {
     "data": {
      "text/html": [
       "<div>\n",
       "<style scoped>\n",
       "    .dataframe tbody tr th:only-of-type {\n",
       "        vertical-align: middle;\n",
       "    }\n",
       "\n",
       "    .dataframe tbody tr th {\n",
       "        vertical-align: top;\n",
       "    }\n",
       "\n",
       "    .dataframe thead th {\n",
       "        text-align: right;\n",
       "    }\n",
       "</style>\n",
       "<table border=\"1\" class=\"dataframe\">\n",
       "  <thead>\n",
       "    <tr style=\"text-align: right;\">\n",
       "      <th></th>\n",
       "      <th>English words/sentences</th>\n",
       "      <th>Nepali words/sentences</th>\n",
       "    </tr>\n",
       "  </thead>\n",
       "  <tbody>\n",
       "    <tr>\n",
       "      <th>26606</th>\n",
       "      <td>If I fought with animals at Ephesus for human ...</td>\n",
       "      <td>यदि खाली मानवताको कारणले मैले एफिससमा जंगली जा...</td>\n",
       "    </tr>\n",
       "    <tr>\n",
       "      <th>10481</th>\n",
       "      <td>Let the proud be disappointed, for they have o...</td>\n",
       "      <td>मानिसहरू ज-जसले तिनीहरू मभन्दा असल हुँ भनेर सो...</td>\n",
       "    </tr>\n",
       "    <tr>\n",
       "      <th>36039</th>\n",
       "      <td>But the strength of the translation and the sk...</td>\n",
       "      <td>तर अनुवादको सशक्तता तथा साहित्यिक अनुवादको सीप...</td>\n",
       "    </tr>\n",
       "    <tr>\n",
       "      <th>130069</th>\n",
       "      <td>People of this kind of microscopic illness and...</td>\n",
       "      <td>यस किसिमको भष्म धातुक्षयका बिरामी तथा दुर्बलता...</td>\n",
       "    </tr>\n",
       "    <tr>\n",
       "      <th>66250</th>\n",
       "      <td>Windows Scheme (With Win Key)</td>\n",
       "      <td>विण्डोज योजना (विन कुञ्जीसँग)</td>\n",
       "    </tr>\n",
       "    <tr>\n",
       "      <th>142925</th>\n",
       "      <td>Insert Label Ranges</td>\n",
       "      <td>लेबल फैलावट जोड</td>\n",
       "    </tr>\n",
       "    <tr>\n",
       "      <th>103645</th>\n",
       "      <td>Therefore , no development , research and diss...</td>\n",
       "      <td>त्यसैले , सिमलत्तरुल सम्बन्धी कुनै बिकास , अनु...</td>\n",
       "    </tr>\n",
       "    <tr>\n",
       "      <th>7142</th>\n",
       "      <td>also the firstborn of our sons, and of our liv...</td>\n",
       "      <td>“व्यवस्थामा लेखे झैं हामी पनि हाम्रा पहिलो जन्...</td>\n",
       "    </tr>\n",
       "    <tr>\n",
       "      <th>46256</th>\n",
       "      <td>Click here to remove the selected file type.</td>\n",
       "      <td>चयन गरेको फाइल प्रकार हटाउन यहाँ क्लिक गर्नुहो...</td>\n",
       "    </tr>\n",
       "    <tr>\n",
       "      <th>145898</th>\n",
       "      <td>Try to Reattempt a Download</td>\n",
       "      <td>डाउनलोडका निम्ति फेरि प्रयास गर्नुहोस्</td>\n",
       "    </tr>\n",
       "  </tbody>\n",
       "</table>\n",
       "</div>"
      ],
      "text/plain": [
       "                                  English words/sentences  \\\n",
       "26606   If I fought with animals at Ephesus for human ...   \n",
       "10481   Let the proud be disappointed, for they have o...   \n",
       "36039   But the strength of the translation and the sk...   \n",
       "130069  People of this kind of microscopic illness and...   \n",
       "66250                       Windows Scheme (With Win Key)   \n",
       "142925                                Insert Label Ranges   \n",
       "103645  Therefore , no development , research and diss...   \n",
       "7142    also the firstborn of our sons, and of our liv...   \n",
       "46256        Click here to remove the selected file type.   \n",
       "145898                        Try to Reattempt a Download   \n",
       "\n",
       "                                   Nepali words/sentences  \n",
       "26606   यदि खाली मानवताको कारणले मैले एफिससमा जंगली जा...  \n",
       "10481   मानिसहरू ज-जसले तिनीहरू मभन्दा असल हुँ भनेर सो...  \n",
       "36039   तर अनुवादको सशक्तता तथा साहित्यिक अनुवादको सीप...  \n",
       "130069  यस किसिमको भष्म धातुक्षयका बिरामी तथा दुर्बलता...  \n",
       "66250                      विण्डोज योजना (विन कुञ्जीसँग)   \n",
       "142925                                    लेबल फैलावट जोड  \n",
       "103645  त्यसैले , सिमलत्तरुल सम्बन्धी कुनै बिकास , अनु...  \n",
       "7142    “व्यवस्थामा लेखे झैं हामी पनि हाम्रा पहिलो जन्...  \n",
       "46256   चयन गरेको फाइल प्रकार हटाउन यहाँ क्लिक गर्नुहो...  \n",
       "145898             डाउनलोडका निम्ति फेरि प्रयास गर्नुहोस्  "
      ]
     },
     "execution_count": 5,
     "metadata": {},
     "output_type": "execute_result"
    }
   ],
   "source": [
    "# Get the file path\n",
    "file_path = os.path.join(os.getcwd(), r\"C:\\Users\\Leapfrog\\Desktop\\Final Anuvadak\\dataset_latest.csv\")\n",
    "\n",
    "# Reading txt file\n",
    "# with open(file_path, \"rb\") as f:\n",
    "#     data=f.read()\n",
    "\n",
    "# Decode the bytes object to a string, assuming UTF-8 encoding\n",
    "# data = data.decode('utf-8')  # This line is added to decode the bytes object\n",
    "\n",
    "# Creating a DataFrame\n",
    "# df = pd.DataFrame([line.split('\\t')[:2] for line in data.strip().split('\\n')], columns=[\"English words/sentences\", \"Nepali words/sentences\"])\n",
    "\n",
    "df = pd.read_csv(file_path, encoding='utf-8')\n",
    "\n",
    "df.rename(columns={\"source\": \"English words/sentences\", \"target\": \"Nepali words/sentences\"}, inplace=True)\n",
    "\n",
    "# Printing the dataframe\n",
    "df.sample(10)\n"
   ]
  },
  {
   "cell_type": "code",
   "execution_count": 6,
   "metadata": {
    "colab": {
     "base_uri": "https://localhost:8080/",
     "height": 363
    },
    "id": "7UEyYMdGcFTE",
    "outputId": "8aa5f76e-4851-4573-c459-3a68e9b5f0ae"
   },
   "outputs": [
    {
     "data": {
      "text/html": [
       "<div>\n",
       "<style scoped>\n",
       "    .dataframe tbody tr th:only-of-type {\n",
       "        vertical-align: middle;\n",
       "    }\n",
       "\n",
       "    .dataframe tbody tr th {\n",
       "        vertical-align: top;\n",
       "    }\n",
       "\n",
       "    .dataframe thead th {\n",
       "        text-align: right;\n",
       "    }\n",
       "</style>\n",
       "<table border=\"1\" class=\"dataframe\">\n",
       "  <thead>\n",
       "    <tr style=\"text-align: right;\">\n",
       "      <th></th>\n",
       "      <th>source</th>\n",
       "      <th>target</th>\n",
       "    </tr>\n",
       "  </thead>\n",
       "  <tbody>\n",
       "    <tr>\n",
       "      <th>110412</th>\n",
       "      <td>First World War, DDT prayogadosro poisonous in...</td>\n",
       "      <td>[start] सर्वप्रथम डीडीटीको प्रयोगदोस्रो विश्वय...</td>\n",
       "    </tr>\n",
       "    <tr>\n",
       "      <th>18587</th>\n",
       "      <td>In the first day there shall be to you a holy ...</td>\n",
       "      <td>[start] यो पवित्र चाडको पहिलो र अन्तिम दिनमा प...</td>\n",
       "    </tr>\n",
       "    <tr>\n",
       "      <th>40590</th>\n",
       "      <td>Agfa Pan 100: Simulate the Agfa Pan black and ...</td>\n",
       "      <td>[start] तटस्थ श्यामश्वेतश्यामश्वेत तटस्थ फिल्म...</td>\n",
       "    </tr>\n",
       "    <tr>\n",
       "      <th>127844</th>\n",
       "      <td>She says - ' Because of not being educated acc...</td>\n",
       "      <td>[start] उनी भन्छिन् – ‘ पढाइअनुसारको मान्यता न...</td>\n",
       "    </tr>\n",
       "    <tr>\n",
       "      <th>49104</th>\n",
       "      <td>Create a new unit from scratch</td>\n",
       "      <td>[start] स्क्रयाचबाट नयाँ एकाइ सिर्जना गर्नुहोस...</td>\n",
       "    </tr>\n",
       "    <tr>\n",
       "      <th>107789</th>\n",
       "      <td>What does this benefit me ?</td>\n",
       "      <td>[start] यसले मलाई के लाभ हुन्छ र ? [end]</td>\n",
       "    </tr>\n",
       "    <tr>\n",
       "      <th>116424</th>\n",
       "      <td>The ground - Part overworked.</td>\n",
       "      <td>[start] ती भू-भाग जोतिए । [end]</td>\n",
       "    </tr>\n",
       "    <tr>\n",
       "      <th>124786</th>\n",
       "      <td>Lascar of the women who are increasingly blowi...</td>\n",
       "      <td>[start] बागलुङ सखारै उकालिदै गरेका महिलाको लस्...</td>\n",
       "    </tr>\n",
       "    <tr>\n",
       "      <th>100327</th>\n",
       "      <td>Real Sukkur residents do not know that land is...</td>\n",
       "      <td>[start] वास्तविक सुकुम्वासीलाई त जग्गा पाईन्छ ...</td>\n",
       "    </tr>\n",
       "    <tr>\n",
       "      <th>90156</th>\n",
       "      <td>Editor text formating</td>\n",
       "      <td>[start] सम्पादकको पाठ ढाँचाबद्ध गर्दैछ [end]</td>\n",
       "    </tr>\n",
       "  </tbody>\n",
       "</table>\n",
       "</div>"
      ],
      "text/plain": [
       "                                                   source  \\\n",
       "110412  First World War, DDT prayogadosro poisonous in...   \n",
       "18587   In the first day there shall be to you a holy ...   \n",
       "40590   Agfa Pan 100: Simulate the Agfa Pan black and ...   \n",
       "127844  She says - ' Because of not being educated acc...   \n",
       "49104                      Create a new unit from scratch   \n",
       "107789                        What does this benefit me ?   \n",
       "116424                      The ground - Part overworked.   \n",
       "124786  Lascar of the women who are increasingly blowi...   \n",
       "100327  Real Sukkur residents do not know that land is...   \n",
       "90156                               Editor text formating   \n",
       "\n",
       "                                                   target  \n",
       "110412  [start] सर्वप्रथम डीडीटीको प्रयोगदोस्रो विश्वय...  \n",
       "18587   [start] यो पवित्र चाडको पहिलो र अन्तिम दिनमा प...  \n",
       "40590   [start] तटस्थ श्यामश्वेतश्यामश्वेत तटस्थ फिल्म...  \n",
       "127844  [start] उनी भन्छिन् – ‘ पढाइअनुसारको मान्यता न...  \n",
       "49104   [start] स्क्रयाचबाट नयाँ एकाइ सिर्जना गर्नुहोस...  \n",
       "107789           [start] यसले मलाई के लाभ हुन्छ र ? [end]  \n",
       "116424                    [start] ती भू-भाग जोतिए । [end]  \n",
       "124786  [start] बागलुङ सखारै उकालिदै गरेका महिलाको लस्...  \n",
       "100327  [start] वास्तविक सुकुम्वासीलाई त जग्गा पाईन्छ ...  \n",
       "90156        [start] सम्पादकको पाठ ढाँचाबद्ध गर्दैछ [end]  "
      ]
     },
     "execution_count": 6,
     "metadata": {},
     "output_type": "execute_result"
    }
   ],
   "source": [
    "df[\"source\"] = df[\"English words/sentences\"]\n",
    "\n",
    "# let's add an initial “seed” token ([start]) and a stop token ([end]) to each target sentence.\n",
    "df[\"target\"] = df[\"Nepali words/sentences\"].apply(lambda x: \"[start] \" + x + \" [end]\")\n",
    "df = df.drop([\"English words/sentences\", \"Nepali words/sentences\"], axis=1)\n",
    "\n",
    "# display a few random samples\n",
    "df.sample(10)"
   ]
  },
  {
   "cell_type": "code",
   "execution_count": 7,
   "metadata": {
    "colab": {
     "base_uri": "https://localhost:8080/"
    },
    "id": "KZn4g9RIiyz0",
    "outputId": "f1c784f9-b0a6-4551-a840-cb8617f55f5d"
   },
   "outputs": [
    {
     "name": "stdout",
     "output_type": "stream",
     "text": [
      "Total dataset: 146901\n"
     ]
    }
   ],
   "source": [
    "# df = df.sample(100000)\n",
    "\n",
    "print(f\"Total dataset: {len(df)}\")"
   ]
  },
  {
   "cell_type": "markdown",
   "metadata": {
    "id": "9D6mcCQecFTF"
   },
   "source": [
    "<div style=\"color:#000; display:fill; border-radius:8px; background-color:#000; font-size:125%;\">\n",
    "    <p style=\"padding: 8px 12px 8px 12px; color:#fff;\"><b>Shuffling the data and splitting it into train, validation, and test sets</b></p>\n",
    "</div>"
   ]
  },
  {
   "cell_type": "code",
   "execution_count": 8,
   "metadata": {
    "colab": {
     "base_uri": "https://localhost:8080/",
     "height": 406
    },
    "id": "kgUf2wiOcFTG",
    "outputId": "3037f4ed-e214-4504-a8f9-a32744a665a2"
   },
   "outputs": [
    {
     "data": {
      "image/png": "[encoded data removed]",
      "text/plain": [
       "<Figure size 640x480 with 1 Axes>"
      ]
     },
     "metadata": {},
     "output_type": "display_data"
    }
   ],
   "source": [
    "# shuffle the data\n",
    "df = df.sample(frac=1).reset_index(drop=True)\n",
    "\n",
    "# split the data into train, validation, and test sets\n",
    "train_size = int(len(df) * 0.7)\n",
    "val_size = int(len(df) * 0.2)\n",
    "test_size = int(len(df) * 0.1)\n",
    "\n",
    "train_df = df[:train_size]\n",
    "val_df = df[train_size:train_size+val_size]\n",
    "test_df = df[train_size+val_size:]\n",
    "\n",
    "# display the data sets representations using a pie chart just to see the distribution of the data\n",
    "labels = \"Train\", \"Validation\", \"Test\"\n",
    "sizes = [len(train_df), len(val_df), len(test_df)]\n",
    "explode = (0.1, 0, 0)\n",
    "fig1, ax1 = plt.subplots()\n",
    "ax1.pie(sizes, explode=explode, labels=labels, autopct=\"%1.1f%%\", shadow=True, startangle=90)\n",
    "ax1.axis(\"equal\")\n",
    "plt.show()\n"
   ]
  },
  {
   "cell_type": "markdown",
   "metadata": {
    "id": "0trBi9M0cFTG"
   },
   "source": [
    "<div style=\"color:#000; display:fill; border-radius:8px; background-color:#000; font-size:125%;\">\n",
    "    <p style=\"padding: 8px 12px 8px 12px; color:#fff;\"><b>Standardizing, tokenizing and indexing the data</b></p>\n",
    "</div>"
   ]
  },
  {
   "cell_type": "markdown",
   "metadata": {
    "id": "fKrY-mndcFTG"
   },
   "source": [
    "First, we need to parse our raw text data and vectorize it.\n",
    "\n",
    "To keep things simple, we will first limit our vocabulary using the **max_tokens** parameter. We will also limit the length of each sentence using the **sequence_length** parameter.\n",
    "\n",
    "Each sentence will be standardized, tokenized by word, and then indexed by token.\n",
    "\n",
    "This will result in a batch of vectors of tokens, stored in a **2D** matrix of shape [(batch_size, **sequence_length**)]."
   ]
  },
  {
   "cell_type": "code",
   "execution_count": 9,
   "metadata": {
    "id": "YfEw9MvdcFTG"
   },
   "outputs": [],
   "source": [
    "max_tokens = 2500\n",
    "sequence_length = 30\n",
    "\n",
    "# define a custom standardization function that convert to lowercase and strips all punctuations except \"[\" and \"]\" (so we can tell apart \"start\" from \"[start]\").\n",
    "strip_chars = string.punctuation\n",
    "strip_chars = strip_chars.replace(\"[\", \"\")\n",
    "strip_chars = strip_chars.replace(\"]\", \"\")\n",
    "\n",
    "def custom_standardization(input_string):\n",
    "    lowercase = tf.strings.lower(input_string)\n",
    "    return tf.strings.regex_replace(\n",
    "        lowercase, f\"[{re.escape(strip_chars)}]\", \"\")\n",
    "\n",
    "# tokenize the data using our custom standardization function\n",
    "source_vectorization = keras.layers.TextVectorization(\n",
    "    max_tokens=max_tokens,\n",
    "    output_mode=\"int\",\n",
    "    output_sequence_length=sequence_length,\n",
    ")\n",
    "target_vectorization = keras.layers.TextVectorization(\n",
    "    max_tokens=max_tokens,\n",
    "    output_mode=\"int\",\n",
    "    output_sequence_length=sequence_length + 1, # add +1 token to our target sentences since they'll be shifted right by 1 during training\n",
    "    standardize=custom_standardization,\n",
    ")\n",
    "\n",
    "def sanitize_text(text):\n",
    "    return text.encode('utf-8', 'ignore').decode('utf-8', 'ignore')\n",
    "\n",
    "\n",
    "\n",
    "# index all tokens in the source and target sentences\n",
    "train_source_texts = train_df[\"source\"].astype(str).values\n",
    "train_target_texts = train_df[\"target\"].apply(sanitize_text).astype(str).values\n",
    "source_vectorization.adapt(train_source_texts)\n",
    "target_vectorization.adapt(train_target_texts)"
   ]
  },
  {
   "cell_type": "code",
   "execution_count": 10,
   "metadata": {},
   "outputs": [
    {
     "name": "stdout",
     "output_type": "stream",
     "text": [
      "['[start] @LuisCarlos आफ्नो बाईकमा छन्, तर साँझ ५:३० देखि उनी संपर्कमा छैनन् र  [end]'\n",
      " '[start] सबै छविहरू अधिलेखन गर्नुहोस् [end]']\n"
     ]
    }
   ],
   "source": [
    "print(train_target_texts[:2])"
   ]
  },
  {
   "cell_type": "code",
   "execution_count": 11,
   "metadata": {
    "id": "5_aQO0mmcFTH"
   },
   "outputs": [],
   "source": [
    "\n",
    "# display a random sample before and after vectorization just to test the vectorization\n",
    "random_sample = random.randint(0, len(train_df))"
   ]
  },
  {
   "cell_type": "code",
   "execution_count": 12,
   "metadata": {},
   "outputs": [
    {
     "name": "stdout",
     "output_type": "stream",
     "text": [
      "67944\n"
     ]
    }
   ],
   "source": [
    "print(random_sample)"
   ]
  },
  {
   "cell_type": "code",
   "execution_count": 13,
   "metadata": {
    "colab": {
     "base_uri": "https://localhost:8080/"
    },
    "id": "beJm9pUgcFTH",
    "outputId": "e6bd7e15-3533-4261-ff64-ff523b80c207"
   },
   "outputs": [
    {
     "name": "stdout",
     "output_type": "stream",
     "text": [
      "Source decoded texts (one random sample): [UNK] to                             \n"
     ]
    }
   ],
   "source": [
    "# display the decoding of the vectorized text (from vector back to text) just to test the vectorization\n",
    "source_decoded_text = \"\"\n",
    "for i in range(len(source_vectorization(train_source_texts[random_sample]))):\n",
    "    source_decoded_text += source_vectorization.get_vocabulary()[source_vectorization(train_source_texts[random_sample])[i]] + ' '\n",
    "print(\"Source decoded texts (one random sample):\", source_decoded_text)"
   ]
  },
  {
   "cell_type": "code",
   "execution_count": 14,
   "metadata": {
    "colab": {
     "base_uri": "https://localhost:8080/"
    },
    "id": "vMVq8amXcFTH",
    "outputId": "284c5547-954d-47a3-a6d6-117fcc0639e8"
   },
   "outputs": [
    {
     "name": "stdout",
     "output_type": "stream",
     "text": [
      "Source texts (one random sample): Redirecting to...\n"
     ]
    }
   ],
   "source": [
    "print(\"Source texts (one random sample):\", train_source_texts[random_sample])"
   ]
  },
  {
   "cell_type": "code",
   "execution_count": 15,
   "metadata": {
    "colab": {
     "base_uri": "https://localhost:8080/"
    },
    "id": "6YPEzKeFcFTH",
    "outputId": "cf3bab7c-3ada-429c-9316-0b60118ef0b1"
   },
   "outputs": [
    {
     "name": "stdout",
     "output_type": "stream",
     "text": [
      "Target texts (one random sample): [start] लाई पुननिर्देशन गरिँदैछ... [end]\n"
     ]
    }
   ],
   "source": [
    "print(\"Target texts (one random sample):\", train_target_texts[random_sample])"
   ]
  },
  {
   "cell_type": "code",
   "execution_count": 16,
   "metadata": {
    "colab": {
     "base_uri": "https://localhost:8080/"
    },
    "id": "tESaa3NgcFTI",
    "outputId": "5ae6e055-fc95-433c-9b2f-84ca8707e562"
   },
   "outputs": [
    {
     "name": "stdout",
     "output_type": "stream",
     "text": [
      "Source vectors (one random sample): tf.Tensor([1 4 0 0 0 0 0 0 0 0 0 0 0 0 0 0 0 0 0 0 0 0 0 0 0 0 0 0 0 0], shape=(30,), dtype=int64)\n"
     ]
    }
   ],
   "source": [
    "print(\"Source vectors (one random sample):\", source_vectorization(train_source_texts[random_sample]))"
   ]
  },
  {
   "cell_type": "code",
   "execution_count": 17,
   "metadata": {
    "colab": {
     "base_uri": "https://localhost:8080/"
    },
    "id": "I2u4YsbncFTI",
    "outputId": "9841fa22-b12a-422a-c004-0d6fb75636bf"
   },
   "outputs": [
    {
     "name": "stdout",
     "output_type": "stream",
     "text": [
      "Target vectors (one random sample): tf.Tensor(\n",
      "[  2 271   1   1   3   0   0   0   0   0   0   0   0   0   0   0   0   0\n",
      "   0   0   0   0   0   0   0   0   0   0   0   0   0], shape=(31,), dtype=int64)\n"
     ]
    }
   ],
   "source": [
    "print(\"Target vectors (one random sample):\", target_vectorization(train_target_texts[random_sample]))"
   ]
  },
  {
   "cell_type": "code",
   "execution_count": 18,
   "metadata": {},
   "outputs": [
    {
     "name": "stdout",
     "output_type": "stream",
     "text": [
      "8785\n"
     ]
    }
   ],
   "source": [
    "random_sample = random.randint(0, len(train_target_texts) - 1)  # Ensure random_sample is valid\n",
    "print(random_sample)"
   ]
  },
  {
   "cell_type": "code",
   "execution_count": 19,
   "metadata": {},
   "outputs": [
    {
     "name": "stdout",
     "output_type": "stream",
     "text": [
      "36531\n"
     ]
    }
   ],
   "source": [
    "target_decoded_text = \"\"\n",
    "random_sample = random.randint(0, len(train_target_texts) - 1)  # Ensure random_sample is valid\n",
    "print(random_sample)"
   ]
  },
  {
   "cell_type": "code",
   "execution_count": 20,
   "metadata": {},
   "outputs": [
    {
     "name": "stdout",
     "output_type": "stream",
     "text": [
      "31\n"
     ]
    }
   ],
   "source": [
    "print(len(target_vectorization(train_target_texts[random_sample])))"
   ]
  },
  {
   "cell_type": "code",
   "execution_count": 21,
   "metadata": {},
   "outputs": [
    {
     "name": "stdout",
     "output_type": "stream",
     "text": [
      "[start] तर रिसर्च सेन्टरको बोर्ड राखेका साना क्लिनिकले भने कुनै अध्ययन – अनुसन्धान गर्न सकेका छैनन् । [end]\n"
     ]
    }
   ],
   "source": [
    "print(train_target_texts[31])"
   ]
  },
  {
   "cell_type": "code",
   "execution_count": 22,
   "metadata": {},
   "outputs": [
    {
     "name": "stdout",
     "output_type": "stream",
     "text": [
      "36531\n"
     ]
    }
   ],
   "source": [
    "print(random_sample)"
   ]
  },
  {
   "cell_type": "code",
   "execution_count": 23,
   "metadata": {},
   "outputs": [
    {
     "name": "stdout",
     "output_type": "stream",
     "text": [
      "tf.Tensor(68, shape=(), dtype=int64)\n"
     ]
    }
   ],
   "source": [
    "vocab_index = target_vectorization(train_target_texts[77065])[1]\n",
    "print(vocab_index)"
   ]
  },
  {
   "cell_type": "code",
   "execution_count": 24,
   "metadata": {},
   "outputs": [],
   "source": [
    "def has_surrogates(s):\n",
    "    return any(0xD800 <= ord(c) <= 0xDFFF for c in s)\n",
    "\n",
    "invalid_texts = [text for text in train_df[\"target\"] if has_surrogates(text)]\n",
    "if invalid_texts:\n",
    "    print(\"Found texts with surrogates. Clean the data.\")\n"
   ]
  },
  {
   "cell_type": "code",
   "execution_count": 1,
   "metadata": {
    "colab": {
     "base_uri": "https://localhost:8080/"
    },
    "id": "OXuv1R3ocFTI",
    "outputId": "11cc7066-e9ac-4d80-cbe0-9d312f420d0b"
   },
   "outputs": [
    {
     "ename": "NameError",
     "evalue": "name 'random' is not defined",
     "output_type": "error",
     "traceback": [
      "\u001b[1;31m---------------------------------------------------------------------------\u001b[0m",
      "\u001b[1;31mNameError\u001b[0m                                 Traceback (most recent call last)",
      "Cell \u001b[1;32mIn[1], line 2\u001b[0m\n\u001b[0;32m      1\u001b[0m target_decoded_text \u001b[38;5;241m=\u001b[39m \u001b[38;5;124m\"\u001b[39m\u001b[38;5;124m\"\u001b[39m\n\u001b[1;32m----> 2\u001b[0m random_sample \u001b[38;5;241m=\u001b[39m \u001b[43mrandom\u001b[49m\u001b[38;5;241m.\u001b[39mrandint(\u001b[38;5;241m0\u001b[39m, \u001b[38;5;28mlen\u001b[39m(train_target_texts) \u001b[38;5;241m-\u001b[39m \u001b[38;5;241m1\u001b[39m)  \u001b[38;5;66;03m# Ensure random_sample is valid\u001b[39;00m\n\u001b[0;32m      4\u001b[0m \u001b[38;5;28;01mfor\u001b[39;00m i \u001b[38;5;129;01min\u001b[39;00m \u001b[38;5;28mrange\u001b[39m(\u001b[38;5;28mlen\u001b[39m(target_vectorization(train_target_texts[random_sample]))):\n\u001b[0;32m      5\u001b[0m     vocab_index \u001b[38;5;241m=\u001b[39m target_vectorization(train_target_texts[random_sample])[i]\n",
      "\u001b[1;31mNameError\u001b[0m: name 'random' is not defined"
     ]
    }
   ],
   "source": [
    "target_decoded_text = \"\"\n",
    "random_sample = random.randint(0, len(train_target_texts) - 1)  # Ensure random_sample is valid\n",
    "\n",
    "for i in range(len(target_vectorization(train_target_texts[random_sample]))):\n",
    "    vocab_index = target_vectorization(train_target_texts[random_sample])[i]\n",
    "    target_decoded_text += target_vectorization.get_vocabulary()[vocab_index] + \" \"\n",
    "\n",
    "print(\"Target decoded texts (one random sample):\", target_decoded_text)"
   ]
  },
  {
   "cell_type": "code",
   "execution_count": null,
   "metadata": {},
   "outputs": [],
   "source": [
    "import random\n",
    "\n",
    "# Ensure random_sample is valid\n",
    "random_sample = random.randint(0, len(train_target_texts) - 1)\n",
    "\n",
    "# Vectorize the randomly selected target text\n",
    "vectorized_text = target_vectorization(train_target_texts[random_sample])\n",
    "\n",
    "# Decode the vectorized text\n",
    "target_decoded_text = \"\"\n",
    "vocabulary = target_vectorization.get_vocabulary()\n",
    "\n",
    "for vocab_index in vectorized_text:\n",
    "    try:\n",
    "        word = vocabulary[vocab_index]\n",
    "        if isinstance(word, bytes):\n",
    "            word = word.decode(\"utf-8\", errors=\"replace\")  # Replace invalid characters\n",
    "        target_decoded_text += word + \" \"\n",
    "    except UnicodeError as e:\n",
    "        print(f\"Error decoding vocabulary entry at index {vocab_index}: {e}\")\n",
    "        target_decoded_text += \"[UNK] \"  # Use a placeholder for corrupted entries\n",
    "\n",
    "# Remove the trailing space\n",
    "target_decoded_text = target_decoded_text.strip()\n",
    "\n",
    "print(\"Target decoded texts (one random sample):\", target_decoded_text)"
   ]
  },
  {
   "cell_type": "code",
   "execution_count": null,
   "metadata": {
    "colab": {
     "base_uri": "https://localhost:8080/"
    },
    "id": "eSNbsq1bcFTI",
    "outputId": "8764542e-cc3c-4fb7-dbac-85c15adbd425"
   },
   "outputs": [],
   "source": [
    "# display the shape of our vectorized data\n",
    "train_source_vectors = source_vectorization(train_source_texts)\n",
    "train_target_vectors = target_vectorization(train_target_texts)\n",
    "print(\"Source vectors (shape):\", train_source_vectors.shape)\n",
    "print(\"Target vectors (shape):\", train_target_vectors.shape)"
   ]
  },
  {
   "cell_type": "markdown",
   "metadata": {
    "id": "NsTtDtRPcFTI"
   },
   "source": [
    "# Building the Transformer"
   ]
  },
  {
   "cell_type": "markdown",
   "metadata": {
    "id": "IPrMokOVcFTI"
   },
   "source": [
    "<div style=\"color:#000; display:fill; border-radius:8px; background-color:#000; font-size:125%;\">\n",
    "    <p style=\"padding: 8px 12px 8px 12px; color:#fff;\"><b>Positional Embedding</b></p>\n",
    "</div>"
   ]
  },
  {
   "cell_type": "markdown",
   "metadata": {
    "id": "9C1yHZ_EcFTI"
   },
   "source": [
    "In order for our Transformer to be aware of the word order in each sentence, we must add some positional information to the data. **Words must become position-aware.**\n",
    "\n",
    "First, each token in our vectors will be embedded in a low-dimensional vector (the dimensionality of the embedding space is defined by the **embedding_size** parameter).\n",
    "\n",
    "Secondly, position information (info on where each word stands in the sentence) will be created and added to the embeddings.\n",
    "\n",
    "This will result in a batch of vectors of positional embeddings, stored in a **3D** matrix of shape [(batch_size, sequence_length, **embedding_size**)]."
   ]
  },
  {
   "cell_type": "code",
   "execution_count": null,
   "metadata": {
    "id": "KVgTp7PIcFTJ"
   },
   "outputs": [],
   "source": [
    "class PositionalEmbedding(keras.layers.Layer):\n",
    "    def __init__(self, sequence_length, input_dim, output_dim, **kwargs):\n",
    "        super().__init__(**kwargs)\n",
    "        self.token_embeddings = keras.layers.Embedding(input_dim=input_dim, output_dim=output_dim) # token embedding layer\n",
    "        self.position_embeddings = keras.layers.Embedding(input_dim=sequence_length, output_dim=output_dim) # position embedding layer\n",
    "        self.sequence_length = sequence_length\n",
    "        self.input_dim = input_dim\n",
    "        self.output_dim = output_dim\n",
    "\n",
    "    def call(self, inputs):\n",
    "        embedded_tokens = self.token_embeddings(inputs) # embed the tokens\n",
    "        length = tf.shape(inputs)[-1]\n",
    "        positions = tf.range(start=0, limit=length, delta=1) # create the positional information\n",
    "        embedded_positions = self.position_embeddings(positions) # embed the positions\n",
    "        return embedded_tokens + embedded_positions # add the token and position embeddings to create the positional embeddings\n",
    "\n",
    "    def compute_mask(self, inputs, mask=None):\n",
    "        return keras.ops.not_equal(inputs, 0)\n",
    "\n",
    "    def get_config(self):\n",
    "        config = super(PositionalEmbedding, self).get_config()\n",
    "        config.update({\n",
    "            \"input_dim\": self.input_dim,\n",
    "            \"output_dim\": self.output_dim,\n",
    "            \"sequence_length\": self.sequence_length,\n",
    "        })\n",
    "        return config"
   ]
  },
  {
   "cell_type": "code",
   "execution_count": null,
   "metadata": {
    "colab": {
     "base_uri": "https://localhost:8080/"
    },
    "id": "9nDqwD09cFTJ",
    "outputId": "71803a32-dae1-4b12-f8d8-397589fc9da3"
   },
   "outputs": [],
   "source": [
    "# display a random sample before and after embbeding just to test our class\n",
    "\n",
    "embed_dim = 256\n",
    "\n",
    "with tf.device('gpu:0'):\n",
    "    train_source_embedded = PositionalEmbedding(\n",
    "        sequence_length=sequence_length,\n",
    "        input_dim=max_tokens,\n",
    "        output_dim=embed_dim,\n",
    "        name=\"source_embedding\",\n",
    "    ) (train_source_vectors)\n",
    "\n",
    "    train_target_embedded = PositionalEmbedding(\n",
    "        sequence_length=sequence_length,\n",
    "        input_dim=max_tokens,\n",
    "        output_dim=embed_dim,\n",
    "        name=\"target_embedding\",\n",
    "    ) (train_source_vectors)\n",
    "\n",
    "    random_sample = random.randint(0, len(train_df))\n",
    "    print(\"Source texts (one random sample):\", train_source_texts[random_sample])\n",
    "    print(\"\\nTarget texts (one random sample):\", train_target_texts[random_sample])\n",
    "    print(\"\\nSource vectors (one random sample):\", source_vectorization(train_source_texts[random_sample]))\n",
    "    print(\"\\nTarget vectors (one random sample):\", target_vectorization(train_target_texts[random_sample]))\n",
    "    print(\"\\nSource embedded vectors (one random sample):\", train_source_embedded[random_sample])\n",
    "    print(\"\\nTarget embedded vectors (one random sample):\", train_target_embedded[random_sample])"
   ]
  },
  {
   "cell_type": "code",
   "execution_count": null,
   "metadata": {
    "colab": {
     "base_uri": "https://localhost:8080/"
    },
    "id": "VuvpCR3rcFTJ",
    "outputId": "fb64904f-f0a4-413c-b155-6c790e2a52d7"
   },
   "outputs": [],
   "source": [
    "# display the shape of our embedded data just to test the class\n",
    "print(\"Source embedded vectors (shape):\", train_source_embedded.shape)\n",
    "print(\"Target embedded vectors (shape):\", train_target_embedded.shape)"
   ]
  },
  {
   "cell_type": "markdown",
   "metadata": {
    "id": "kcPWncjecFTJ"
   },
   "source": [
    "<div style=\"color:#000; display:fill; border-radius:8px; background-color:#000; font-size:125%;\">\n",
    "    <p style=\"padding: 8px 12px 8px 12px; color:#fff;\"><b>The Attention mechanism</b></p>\n",
    "</div>"
   ]
  },
  {
   "cell_type": "markdown",
   "metadata": {
    "id": "qlI3cnY-cFTJ"
   },
   "source": [
    "The goal here is to make each of our words (positional embeddings at this point) aware of the other words surrounding them. **Words must become context-aware.**\n",
    "\n",
    "The implementation of the Attention mechanism involves the following 3 steps :\n",
    "\n",
    "- Causal Masking\n",
    "- Scaled Dot-Product Attention\n",
    "- Multi-Head Attention\n",
    "\n",
    "In practice, we could just use **keras.layers.MultiHeadAttention** instead of building it from scratch, but let's do it anyway!"
   ]
  },
  {
   "cell_type": "markdown",
   "metadata": {
    "id": "6C5ILP58cFTJ"
   },
   "source": [
    "<div style=\"color:#fff; display:fill; border-width:1px; border-color:#000; font-size:125%;\">\n",
    "    <p style=\"border-style:solid; border-radius:8px; background-color:#fff; padding: 8px 12px 8px 12px; color:#000;\"><b>Causal Masking</b></p>\n",
    "</div>"
   ]
  },
  {
   "cell_type": "markdown",
   "metadata": {
    "id": "loAnZbxacFTJ"
   },
   "source": [
    "\n",
    "Since our words will now be context-aware (aware of words before **and** after them in the sentence), we need a way to mask those *after-words* when needed be (i.e. during training)."
   ]
  },
  {
   "cell_type": "code",
   "execution_count": null,
   "metadata": {
    "id": "qiORUaihcFTK"
   },
   "outputs": [],
   "source": [
    "def shape_list(x):\n",
    "    \"\"\"Deal with dynamic shape in tensorflow cleanly.\"\"\"\n",
    "    static = x.shape.as_list()\n",
    "    dynamic = tf.shape(x)\n",
    "    return [dynamic[i] if s is None else s for i, s in enumerate(static)]\n",
    "\n",
    "def attention_mask(nd, ns, *, dtype):\n",
    "    \"\"\"1's in the lower triangle, counting from the lower right corner.\n",
    "    Same as tf.matrix_band_part(tf.ones([nd, ns]), -1, ns-nd), but doesn't produce garbage on TPUs.\n",
    "    \"\"\"\n",
    "    i = tf.range(nd)[:,None]\n",
    "    j = tf.range(ns)\n",
    "    m = i >= j - ns + nd\n",
    "    return tf.cast(m, dtype)\n",
    "\n",
    "def mask_attn_weights(w):\n",
    "    # w has shape [batch, heads, dst_sequence, src_sequence], where information flows from src to dst.\n",
    "    _, _, nd, ns = shape_list(w)\n",
    "    b = attention_mask(nd, ns, dtype=w.dtype)\n",
    "    b = tf.reshape(b, [1, 1, nd, ns])\n",
    "    w = w*b - tf.cast(1e10, w.dtype)*(1-b)\n",
    "    return w"
   ]
  },
  {
   "cell_type": "code",
   "execution_count": null,
   "metadata": {
    "colab": {
     "base_uri": "https://localhost:8080/"
    },
    "id": "_tzyU8DgcFTK",
    "outputId": "9c62edd2-0ee5-4c50-dba4-65690b7993b9"
   },
   "outputs": [],
   "source": [
    "# display the causal masking of a random tensor just to test the function\n",
    "random_tensor = tf.random.uniform(shape=(1, 1, 5, 5), minval=0, maxval=1, dtype=tf.float32)\n",
    "print(\"Masked attention weights:\", mask_attn_weights(random_tensor))"
   ]
  },
  {
   "cell_type": "markdown",
   "metadata": {
    "id": "o0-OrVe6cFTK"
   },
   "source": [
    "<div style=\"color:#fff; display:fill; border-width:1px; border-color:#000; font-size:125%;\">\n",
    "    <p style=\"border-style:solid; border-radius:8px; background-color:#fff; padding: 8px 12px 8px 12px; color:#000;\"><b>Scaled Dot-Product Attention</b></p>\n",
    "</div>"
   ]
  },
  {
   "cell_type": "markdown",
   "metadata": {
    "id": "cn55MD4TcFTK"
   },
   "source": [
    "This function is what makes our words context-aware.\n",
    "\n",
    "We want to compare each word with every other words around them and take note of how *related* they are. Technically, this process can be described as \"mapping a query and a set of key-value pairs to an output\". It can be summarized as follows :\n",
    "- We take a **Q**uery of elements.\n",
    "- For each element in the **Q**uery, we score how much that element is related to every **K**ey (This is done using a compatibility function : MatMul). If needed be, Causal Masking will be applied here.\n",
    "- Then, we use these relationship scores to weight a sum of **V**alues, which will be our new context-aware representations.\n"
   ]
  },
  {
   "cell_type": "code",
   "execution_count": null,
   "metadata": {
    "id": "wvjFOTZYcFTK"
   },
   "outputs": [],
   "source": [
    "def scaled_dot_product_attention(q, k, v, use_causal_mask=False):\n",
    "    d_k = tf.cast(tf.shape(k)[-1], tf.float32)\n",
    "    scores = tf.matmul(q, k, transpose_b=True) # Matmul of Q and K\n",
    "    scaled_scores = scores / tf.math.sqrt(d_k) # Scale\n",
    "    if use_causal_mask:\n",
    "        scaled_scores = mask_attn_weights(scaled_scores) # Mask (opt.)\n",
    "    weights = tf.nn.softmax(scaled_scores, axis=-1) # SoftMax\n",
    "    output = tf.matmul(weights, v) # Matmul of SoftMax and V\n",
    "    return output"
   ]
  },
  {
   "cell_type": "code",
   "execution_count": null,
   "metadata": {
    "colab": {
     "base_uri": "https://localhost:8080/"
    },
    "id": "CXm_7ys5cFTL",
    "outputId": "c5e3b5b9-41e7-417e-87d6-278a1a446643"
   },
   "outputs": [],
   "source": [
    "# display the shape of our attention output just to test the function\n",
    "\n",
    "input = train_source_embedded\n",
    "input = tf.expand_dims(input, axis=1)\n",
    "print(\"Scaled dot product attention (shape):\", scaled_dot_product_attention(input, input, input, use_causal_mask=True).shape)"
   ]
  },
  {
   "cell_type": "markdown",
   "metadata": {
    "id": "M4iM6sT-cFTL"
   },
   "source": [
    "<div style=\"color:#fff; display:fill; border-width:1px; border-color:#000; font-size:125%;\">\n",
    "    <p style=\"border-style:solid; border-radius:8px; background-color:#fff; padding: 8px 12px 8px 12px; color:#000;\"><b>Multi-Head Attention</b></p>\n",
    "</div>"
   ]
  },
  {
   "cell_type": "markdown",
   "metadata": {
    "id": "0VWoF_6HcFTL"
   },
   "source": [
    "Multi-head attention was introduced in [Attention is all you need](https://arxiv.org/abs/1706.03762) and is wayyy to technical for me to try and explain here. But basically, it allows for multiple Scaled Dot-Production Attention functions to be run in parallel.\n",
    "    "
   ]
  },
  {
   "cell_type": "code",
   "execution_count": null,
   "metadata": {
    "id": "BLwGbWifcFTN"
   },
   "outputs": [],
   "source": [
    "class MultiHeadAttention(keras.layers.Layer):\n",
    "    def __init__(self, embed_dim, h, **kwargs):\n",
    "        super().__init__(**kwargs)\n",
    "        self.embed_dim = embed_dim\n",
    "        self.h = h\n",
    "        if embed_dim % h != 0:\n",
    "            raise ValueError(\n",
    "                f\"dimension of the embedding space = {embed_dim} should be divisible by number of heads = {h}\"\n",
    "            )\n",
    "        self.q_linear = keras.layers.Dense(embed_dim)\n",
    "        self.k_linear = keras.layers.Dense(embed_dim)\n",
    "        self.v_linear = keras.layers.Dense(embed_dim)\n",
    "        self.concat_linear = keras.layers.Dense(embed_dim)\n",
    "\n",
    "    def split_heads(self, x, batch_size):\n",
    "        x = tf.reshape(x, shape=(batch_size, -1, self.h, self.embed_dim // self.h))\n",
    "        return tf.transpose(x, perm=[0, 2, 1, 3])\n",
    "\n",
    "    def concat_heads(self, x, batch_size):\n",
    "        x = tf.transpose(x, perm=[0, 2, 1, 3])\n",
    "        return tf.reshape(x, (batch_size, -1, self.embed_dim))\n",
    "\n",
    "    def call(self, q, k, v, use_causal_mask=False):\n",
    "        batch_size = tf.shape(k)[0]\n",
    "        q = self.q_linear(q)\n",
    "        k = self.k_linear(k)\n",
    "        v = self.v_linear(v)\n",
    "        q = self.split_heads(q, batch_size)\n",
    "        k = self.split_heads(k, batch_size)\n",
    "        v = self.split_heads(v, batch_size)\n",
    "        attention = scaled_dot_product_attention(q, k, v, use_causal_mask)\n",
    "        concat = self.concat_heads(attention, batch_size)\n",
    "        concat = self.concat_linear(concat)\n",
    "        return concat\n",
    "\n",
    "    def get_config(self):\n",
    "        config = super(MultiHeadAttention, self).get_config()\n",
    "        config.update({\n",
    "            \"embed_dim\": self.embed_dim,\n",
    "            \"h\": self.h,\n",
    "        })\n",
    "        return config"
   ]
  },
  {
   "cell_type": "markdown",
   "metadata": {
    "id": "xffQuSfBcFTO"
   },
   "source": [
    "<div style=\"color:#000; display:fill; border-radius:8px; background-color:#000; font-size:125%;\">\n",
    "    <p style=\"padding: 8px 12px 8px 12px; color:#fff;\"><b>The Encoder</b></p>\n",
    "</div>"
   ]
  },
  {
   "cell_type": "markdown",
   "metadata": {
    "id": "0W_qem_NcFTO"
   },
   "source": [
    "The role of the Encoder is to process the source sentence. Here, no Causal Masking is needed : information is allowed to flow in both directions (words can be aware of words before **and** after them in the sentence).\n",
    "\n",
    "The Encoder's a pretty generic module that ingests a sentence and learns to turn it into a more useful representation. It can also be used by itself (without the Decoder) for Natural Language Understanding (NLU) tasks like Classification or Named Entity Recognition (NER).\n",
    "\n",
    "In the Encoder's Multi-Head Self-Attention layer ([Global self-attention layer](https://www.tensorflow.org/text/tutorials/transformer#the_global_self_attention_layer)), the **Source Vectors Embeddings** are being passed to all three parameters : **Q**uery, **K**ey, and **V**alue."
   ]
  },
  {
   "cell_type": "code",
   "execution_count": null,
   "metadata": {
    "id": "nW9YkAeccFTO"
   },
   "outputs": [],
   "source": [
    "class TransformerEncoder(keras.layers.Layer):\n",
    "    def __init__(self, embed_dim, dense_dim, num_heads, **kwargs):\n",
    "        super().__init__(**kwargs)\n",
    "        self.embed_dim = embed_dim\n",
    "        self.dense_dim = dense_dim\n",
    "        self.num_heads = num_heads\n",
    "        self.layer_norm_1 = keras.layers.LayerNormalization()\n",
    "        self.layer_norm_2 = keras.layers.LayerNormalization()\n",
    "        self.global_self_attention = MultiHeadAttention(embed_dim=embed_dim, h=num_heads)\n",
    "        self.feed_forward = keras.Sequential(\n",
    "            [keras.layers.Dense(dense_dim, activation=\"relu\"),\n",
    "             keras.layers.Dense(embed_dim),]\n",
    "        )\n",
    "\n",
    "    def call(self, x):\n",
    "        # Post layer normalization + residual connections\n",
    "        x = self.layer_norm_1(x + self.global_self_attention(q=x, k=x, v=x))\n",
    "        x = self.layer_norm_2(x + self.feed_forward(x))\n",
    "        return x\n",
    "\n",
    "    def get_config(self):\n",
    "        config = super().get_config()\n",
    "        config.update({\n",
    "            \"embed_dim\": self.embed_dim,\n",
    "            \"dense_dim\": self.dense_dim,\n",
    "            \"num_heads\": self.num_heads,\n",
    "        })\n",
    "        return config"
   ]
  },
  {
   "cell_type": "markdown",
   "metadata": {
    "id": "jNbdiaF0cFTO"
   },
   "source": [
    "<div style=\"color:#000; display:fill; border-radius:8px; background-color:#000; font-size:125%;\">\n",
    "    <p style=\"padding: 8px 12px 8px 12px; color:#fff;\"><b>The Decoder</b></p>\n",
    "</div>"
   ]
  },
  {
   "cell_type": "markdown",
   "metadata": {
    "id": "laMYQcfxcFTO"
   },
   "source": [
    "The role of the Decoder is to look at the target sentence so far and predict the next word in that sentence.\n",
    "\n",
    "Contrary to the Encoder, the Decoder is made of two Attention layers. The first Attention layer does a similar job as the Encoder's sole Attention layer, with the important distinction that here, Causal Masking is enabled because, to correctly train our Transformer to predict the next word based on the current word and the previous words in the sentence, we need to mask the *after-words*. Meanwhile, The second Attention layer is much more straight-forward and basically just acts as a bridge that connects the Encoder to the Decoder.\n",
    "\n",
    "In the Decoder's first Attention layer, the Masked Multi-Head Self-Attention layer ([Causal self-attention layer](https://www.tensorflow.org/text/tutorials/transformer#the_causal_self_attention_layer)), the **Target Vectors Embeddings** are being passed to all three parameters : **Q**uery, **K**ey, and **V**alue. Like mentionned above, Causal Masking is enabled in this layer.\n",
    "\n",
    "In the Decoder's second Attention layer, the Encoder-Decoder Attention layer ([Cross attention layer](https://www.tensorflow.org/text/tutorials/transformer#the_cross_attention_layer)), the **outputs of the Encoder** are being passed to the **K**ey and **V**alue parameters, with the **outputs of the Decoder's Masked Multi-Head Self-Attention layer** being passed to the **Q**uery parameter.\n"
   ]
  },
  {
   "cell_type": "code",
   "execution_count": null,
   "metadata": {
    "id": "BB6YsF3jcFTO"
   },
   "outputs": [],
   "source": [
    "class TransformerDecoder(keras.layers.Layer):\n",
    "    def __init__(self, embed_dim, dense_dim, num_heads, **kwargs):\n",
    "        super().__init__(**kwargs)\n",
    "        self.embed_dim = embed_dim\n",
    "        self.dense_dim = dense_dim\n",
    "        self.num_heads = num_heads\n",
    "        self.causal_self_attention = MultiHeadAttention(embed_dim=embed_dim, h=num_heads)\n",
    "        self.cross_attention = MultiHeadAttention(embed_dim=embed_dim, h=num_heads)\n",
    "        self.feed_forward = keras.Sequential(\n",
    "            [keras.layers.Dense(dense_dim, activation=\"relu\"),\n",
    "             keras.layers.Dense(embed_dim),]\n",
    "        )\n",
    "        self.layer_norm_1 = keras.layers.LayerNormalization()\n",
    "        self.layer_norm_2 = keras.layers.LayerNormalization()\n",
    "        self.layer_norm_3 = keras.layers.LayerNormalization()\n",
    "\n",
    "    def get_config(self):\n",
    "        config = super().get_config()\n",
    "        config.update({\n",
    "            \"embed_dim\": self.embed_dim,\n",
    "            \"dense_dim\": self.dense_dim,\n",
    "            \"num_heads\": self.num_heads,\n",
    "        })\n",
    "        return config\n",
    "\n",
    "    def call(self, x, context):\n",
    "        # Post layer normalization + residual connections\n",
    "        x = self.layer_norm_1(x + self.causal_self_attention(q=x, k=x, v=x, use_causal_mask=True))\n",
    "        x = self.layer_norm_2(x + self.cross_attention(q=x, k=context, v=context))\n",
    "        x = self.layer_norm_3(x + self.feed_forward(x))\n",
    "        return x"
   ]
  },
  {
   "cell_type": "markdown",
   "metadata": {
    "id": "NedehwP9cFTP"
   },
   "source": [
    "<div style=\"color:#000; display:fill; border-radius:8px; background-color:#000; font-size:125%;\">\n",
    "    <p style=\"padding: 8px 12px 8px 12px; color:#fff;\"><b>Putting it all together</b></p>\n",
    "</div>"
   ]
  },
  {
   "cell_type": "markdown",
   "metadata": {
    "id": "LWR39nGecFTP"
   },
   "source": [
    "We  turn our data into a *tf.data pipeline* that returns a tuple (Inputs, Outputs) where Inputs is a dict with two keys : **encoder_inputs** (the source sentence) and **decoder_inputs** (the target sentence), and Outputs is a single key : **decoder_outputs** (the target sentence \"shifted right\").\n",
    "\n",
    "During training, the fact that our Outputs are offset by one step ahead (\"shifted right\"), combined with the Causal Masking of the Decoder (Masked Multi-Head Attention layer), ensures that the\n",
    "predictions for position *i* can depend only on the known outputs at positions less than *i* (no *after-words* visible).\n",
    "\n",
    "During inference, we'll generate one target word at a time and then feed it back into the Decoder so that it can predict the next word. And so on."
   ]
  },
  {
   "cell_type": "code",
   "execution_count": null,
   "metadata": {
    "id": "UESTfTBTcFTP"
   },
   "outputs": [],
   "source": [
    "batch_size = 64\n",
    "\n",
    "def format_dataset(source, target):\n",
    "    source_vectors = source_vectorization(source)\n",
    "    target_vectors = target_vectorization(target)\n",
    "    return ({\n",
    "        \"source\": source_vectors, # encoder_inputs\n",
    "        \"target\": target_vectors[:, :-1], # decoder_inputs (truncate by 1 to keep it at the same length as decoder_outputs, which is shifted right by 1).\n",
    "    }, target_vectors[:, 1:]) # decoder_outputs\n",
    "\n",
    "def make_dataset(df):\n",
    "    dataset = tf.data.Dataset.from_tensor_slices((df[\"source\"].astype(\"str\").values, df[\"target\"].astype(\"str\").values))\n",
    "    dataset = dataset.batch(batch_size)\n",
    "    dataset = dataset.map(format_dataset, num_parallel_calls=4)\n",
    "    return dataset.shuffle(2048).prefetch(16).cache()\n",
    "\n",
    "train_ds = make_dataset(train_df)\n",
    "val_ds = make_dataset(val_df)"
   ]
  },
  {
   "cell_type": "code",
   "execution_count": null,
   "metadata": {
    "colab": {
     "base_uri": "https://localhost:8080/"
    },
    "id": "lJF1bwyfcFTP",
    "outputId": "1baccc3c-6705-4226-de1a-4d5ccf359afc"
   },
   "outputs": [],
   "source": [
    "# display the shape of the first batch of data in the dataset just to see what it looks like\n",
    "for batch in train_ds.take(1):\n",
    "    print(\"Encoder Inputs:\", batch[0][\"source\"].shape)\n",
    "    print(\"Decoder Inputs:\", batch[0][\"target\"].shape)\n",
    "    print(\"Decoder Outputs:\", batch[1].shape)"
   ]
  },
  {
   "cell_type": "code",
   "execution_count": null,
   "metadata": {
    "colab": {
     "base_uri": "https://localhost:8080/"
    },
    "id": "lmWg4zuxcFTP",
    "outputId": "6184ab55-ecf1-4fa3-907f-d2ca8cc66a94"
   },
   "outputs": [],
   "source": [
    "embed_dim = 512 # dimension of the embedding space\n",
    "dense_dim = 2048 # dimension of the feed forward network (a rule of thumb is to use 4 times the size of the embeddings)\n",
    "num_heads = 8\n",
    "\n",
    "with tf.device('gpu:0'):\n",
    "  # the transformer body\n",
    "  encoder_inputs = keras.Input(shape=(None,), dtype=\"int64\", name=\"source\")\n",
    "  x = PositionalEmbedding(sequence_length, max_tokens, embed_dim)(encoder_inputs)\n",
    "  encoder_outputs = TransformerEncoder(embed_dim, dense_dim, num_heads)(x)\n",
    "  decoder_inputs = keras.Input(shape=(None,), dtype=\"int64\", name=\"target\")\n",
    "  x = PositionalEmbedding(sequence_length, max_tokens, embed_dim)(decoder_inputs)\n",
    "  x = TransformerDecoder(embed_dim, dense_dim, num_heads)(x, encoder_outputs)\n",
    "\n",
    "  # the transformer body\n",
    "  # encoder_inputs = keras.Input(shape=(None,), dtype=\"int64\", name=\"source\")\n",
    "  # x = PositionalEmbedding(sequence_length, max_tokens, embed_dim)(encoder_inputs)\n",
    "\n",
    "  # # Add more encoder layers\n",
    "  # num_encoder_layers = 3  # You can change this number\n",
    "  # for _ in range(num_encoder_layers):\n",
    "  #     x = TransformerEncoder(embed_dim, dense_dim, num_heads)(x)\n",
    "  # encoder_outputs = x  # Output of the last encoder layer\n",
    "\n",
    "  # decoder_inputs = keras.Input(shape=(None,), dtype=\"int64\", name=\"target\")\n",
    "  # x = PositionalEmbedding(sequence_length, max_tokens, embed_dim)(decoder_inputs)\n",
    "\n",
    "  # # Add more decoder layers\n",
    "  # num_decoder_layers = 3  # You can change this number\n",
    "  # for _ in range(num_decoder_layers):\n",
    "  #     x = TransformerDecoder(embed_dim, dense_dim, num_heads)(x, encoder_outputs)\n",
    "\n",
    "  # the transformer head\n",
    "  x = keras.layers.Dropout(0.5)(x)\n",
    "  decoder_outputs = keras.layers.Dense(max_tokens, activation=\"softmax\")(x)\n",
    "\n",
    "  transformer = keras.Model([encoder_inputs, decoder_inputs], decoder_outputs)"
   ]
  },
  {
   "cell_type": "code",
   "execution_count": null,
   "metadata": {
    "id": "0BSQhtlQXk_l"
   },
   "outputs": [],
   "source": [
    "# # Define hyperparameters\n",
    "# embed_dim = 512  # Dimension of the embedding space\n",
    "# dense_dim = 2048  # Dimension of the feedforward network\n",
    "# num_heads = 8  # Number of attention heads\n",
    "# num_encoder_layers = 6  # Number of encoder layers\n",
    "# num_decoder_layers = 6  # Number of decoder layers\n",
    "# dropout_rate = 0.5  # Dropout rate\n",
    "\n",
    "# # Inputs for encoder and decoder\n",
    "# encoder_inputs = keras.Input(shape=(None,), dtype=\"int64\", name=\"source\")\n",
    "# decoder_inputs = keras.Input(shape=(None,), dtype=\"int64\", name=\"target\")\n",
    "\n",
    "# # Positional embedding\n",
    "# x_encoder = PositionalEmbedding(sequence_length, max_tokens, embed_dim)(encoder_inputs)\n",
    "# x_decoder = PositionalEmbedding(sequence_length, max_tokens, embed_dim)(decoder_inputs)\n",
    "\n",
    "# # Encoder stack\n",
    "# for _ in range(num_encoder_layers):\n",
    "#     x_encoder = TransformerEncoder(embed_dim, dense_dim, num_heads)(x_encoder)\n",
    "# encoder_outputs = x_encoder\n",
    "\n",
    "# # Decoder stack\n",
    "# for _ in range(num_decoder_layers):\n",
    "#     x_decoder = TransformerDecoder(embed_dim, dense_dim, num_heads)(x_decoder, encoder_outputs)\n",
    "\n",
    "# # Output head\n",
    "# x_decoder = keras.layers.Dropout(dropout_rate)(x_decoder)\n",
    "# decoder_outputs = keras.layers.Dense(max_tokens, activation=\"softmax\")(x_decoder)\n",
    "\n",
    "# # Define the complete Transformer model\n",
    "# transformer = keras.Model([encoder_inputs, decoder_inputs], decoder_outputs)\n",
    "\n",
    "# # Summary of the model\n",
    "# transformer.summary()\n"
   ]
  },
  {
   "cell_type": "markdown",
   "metadata": {
    "id": "O5NdIQ_McFTP"
   },
   "source": [
    "# Training the Transformer"
   ]
  },
  {
   "cell_type": "code",
   "execution_count": null,
   "metadata": {
    "id": "ra7b_y0TcFTQ"
   },
   "outputs": [],
   "source": [
    "# import warnings\n",
    "# warnings.filterwarnings(\"ignore\")\n",
    "\n",
    "# transformer.compile(\n",
    "#     optimizer=\"rmsprop\",\n",
    "#     loss=\"sparse_categorical_crossentropy\",\n",
    "#     metrics=[\"accuracy\"])\n",
    "\n",
    "# EPOCHS = 15\n",
    "# # checkpoint_filepath = '/tmp/checkpoint.weights.h5'\n",
    "# callbacks_list = [\n",
    "#     keras.callbacks.ReduceLROnPlateau(\n",
    "#         monitor='val_loss',\n",
    "#         factor=0.01,\n",
    "#         patience=5,\n",
    "#     ),\n",
    "#     keras.callbacks.EarlyStopping(\n",
    "#         monitor='val_loss',\n",
    "#         patience=5,\n",
    "#     ),\n",
    "#     # keras.callbacks.ModelCheckpoint(\n",
    "#     #     # filepath=checkpoint_filepath,\n",
    "#     #     # save_weights_only=True,\n",
    "#     #     monitor='val_loss',\n",
    "#     #     mode='min',\n",
    "#     #     # save_best_only=True\n",
    "#     # ),\n",
    "# ]\n",
    "\n",
    "# history = transformer.fit(train_ds,\n",
    "#                 epochs=EPOCHS,\n",
    "#                 callbacks=callbacks_list,\n",
    "#                 validation_data=val_ds)\n",
    "\n",
    "# # transformer.load_weights(checkpoint_filepath)"
   ]
  },
  {
   "cell_type": "code",
   "execution_count": null,
   "metadata": {
    "colab": {
     "base_uri": "https://localhost:8080/",
     "height": 449
    },
    "id": "Tftdj2gUkIfz",
    "outputId": "f6592644-ea01-48f9-d1c7-080f7649df17"
   },
   "outputs": [],
   "source": [
    "transformer.summary()"
   ]
  },
  {
   "cell_type": "code",
   "execution_count": null,
   "metadata": {
    "colab": {
     "base_uri": "https://localhost:8080/"
    },
    "id": "zPSoMRIzYBPW",
    "outputId": "02a76757-85fb-4974-a923-f7b247ba6ddc"
   },
   "outputs": [],
   "source": [
    "import warnings\n",
    "warnings.filterwarnings(\"ignore\")\n",
    "\n",
    "checkpoint_filepath = os.path.join(os.getcwd(), 'drive/My Drive/Datasets/checkpoint_1.weights.h5')\n",
    "\n",
    "# Compile the model with specified learning rate\n",
    "transformer.compile(\n",
    "    optimizer=keras.optimizers.RMSprop(learning_rate=0.001),\n",
    "    loss=\"sparse_categorical_crossentropy\",\n",
    "    metrics=[\"accuracy\"]\n",
    ")\n",
    "\n",
    "EPOCHS = 10\n",
    "\n",
    "# Define callbacks\n",
    "callbacks_list = [\n",
    "    keras.callbacks.ReduceLROnPlateau(\n",
    "        monitor='val_loss',\n",
    "        factor=0.1,\n",
    "        patience=5,  # Reduce LR if no improvement for 5 epochs\n",
    "        verbose=1\n",
    "    ),\n",
    "    keras.callbacks.EarlyStopping(\n",
    "        monitor='val_loss',\n",
    "        patience=5,  # Stop training if no improvement for 5 epochs\n",
    "        verbose=1,\n",
    "        restore_best_weights=True  # Restore the best weights\n",
    "    ),\n",
    "    keras.callbacks.ModelCheckpoint(\n",
    "        filepath=checkpoint_filepath,\n",
    "        save_weights_only=True,\n",
    "        monitor='val_loss',\n",
    "        mode='min',\n",
    "        save_best_only=True\n",
    "    ),\n",
    "]\n",
    "\n",
    "# Train the model\n",
    "with tf.device('gpu:0'):\n",
    "  history = transformer.fit(\n",
    "      train_ds,\n",
    "      epochs=EPOCHS,\n",
    "      callbacks=callbacks_list,\n",
    "      validation_data=val_ds\n",
    "  )\n"
   ]
  },
  {
   "cell_type": "code",
   "execution_count": null,
   "metadata": {
    "id": "Zb-C10t5SwFi"
   },
   "outputs": [],
   "source": [
    "# from google.colab import drive\n",
    "# drive.mount('/content/drive')"
   ]
  },
  {
   "cell_type": "code",
   "execution_count": null,
   "metadata": {
    "id": "Ve1ozHRGgD89"
   },
   "outputs": [],
   "source": [
    "# history.save('my_model_history.keras')"
   ]
  },
  {
   "cell_type": "code",
   "execution_count": null,
   "metadata": {
    "colab": {
     "base_uri": "https://localhost:8080/",
     "height": 487
    },
    "id": "ZKdv9ch7Rbya",
    "outputId": "e9690df7-4911-4b43-b958-32b1e1e05362"
   },
   "outputs": [],
   "source": [
    "import matplotlib.pyplot as plt\n",
    "\n",
    "plt.figure(figsize=(10, 5))  # Adjust figure size if needed\n",
    "plt.plot(history.history['loss'], label='Training Loss')\n",
    "plt.plot(history.history['val_loss'], label='Validation Loss')\n",
    "plt.title('Training and Validation Loss')\n",
    "plt.xlabel('Epoch')\n",
    "plt.ylabel('Loss')\n",
    "plt.legend()\n",
    "plt.show()"
   ]
  },
  {
   "cell_type": "code",
   "execution_count": null,
   "metadata": {
    "colab": {
     "base_uri": "https://localhost:8080/",
     "height": 487
    },
    "id": "d8mlYT4ISkuK",
    "outputId": "efaa89c1-d9c8-4ed9-ae65-ee177fee437a"
   },
   "outputs": [],
   "source": [
    "plt.figure(figsize=(10, 5))  # Adjust figure size if needed\n",
    "plt.plot(history.history['accuracy'], label='Training Accuracy')\n",
    "plt.plot(history.history['val_accuracy'], label='Validation Accuracy')\n",
    "plt.title('Training and Validation Accuracy')\n",
    "plt.xlabel('Epoch')\n",
    "plt.ylabel('Accuracy')\n",
    "plt.legend()\n",
    "plt.show()"
   ]
  },
  {
   "cell_type": "markdown",
   "metadata": {
    "id": "ZtOD2JFzcFTQ"
   },
   "source": [
    "# Testing the Transformer"
   ]
  },
  {
   "cell_type": "markdown",
   "metadata": {
    "id": "uwNvyuGHcFTQ"
   },
   "source": [
    "Let's translate a few random test sentences with our newly-trained Transformer."
   ]
  },
  {
   "cell_type": "code",
   "execution_count": null,
   "metadata": {
    "id": "wllho0aIcFTQ"
   },
   "outputs": [],
   "source": [
    "target_vocab = target_vectorization.get_vocabulary()\n",
    "target_index_lookup = dict(zip(range(len(target_vocab)), target_vocab))\n",
    "max_decoded_sentence_length = 30\n",
    "\n",
    "def decode_sequence(input_sentence):\n",
    "    tokenized_input_sentence = source_vectorization([input_sentence])\n",
    "    decoded_sentence = \"[start]\"\n",
    "    for i in range(max_decoded_sentence_length):\n",
    "        tokenized_target_sentence = target_vectorization(\n",
    "            [decoded_sentence])[:, :-1]\n",
    "        predictions = transformer(\n",
    "            [tokenized_input_sentence, tokenized_target_sentence])\n",
    "        sampled_token_index = np.argmax(predictions[0, i, :])\n",
    "        sampled_token = target_index_lookup[sampled_token_index]\n",
    "        decoded_sentence += \" \" + sampled_token\n",
    "        if sampled_token == \"[end]\":\n",
    "            break\n",
    "    return decoded_sentence\n",
    "\n",
    "\n",
    "# random_index = np.random.randint(0, len(test_df))\n",
    "# input_sentence = test_df[\"source\"].iloc[random_index]\n",
    "# print(input_sentence)\n",
    "# print(decode_sequence(input_sentence))"
   ]
  },
  {
   "cell_type": "code",
   "execution_count": null,
   "metadata": {
    "colab": {
     "base_uri": "https://localhost:8080/"
    },
    "id": "a1TjB5rMNC7C",
    "outputId": "7f56667c-602a-4940-cc66-1d24e578e21a"
   },
   "outputs": [],
   "source": [
    "example = \"I live in Kathmandu.\"\n",
    "translation = decode_sequence(example)\n",
    "print(f\"'{example}' translated to - '{translation}'\")"
   ]
  },
  {
   "cell_type": "code",
   "execution_count": null,
   "metadata": {
    "colab": {
     "base_uri": "https://localhost:8080/"
    },
    "id": "bYt4ADha0urF",
    "outputId": "6e4c260b-1c99-4c20-fd9c-f01140af0f85"
   },
   "outputs": [],
   "source": [
    "example = \"The translation was correct.\"\n",
    "translation = decode_sequence(example)\n",
    "print(f\"'{example}' translated to - '{translation}'\")"
   ]
  },
  {
   "cell_type": "code",
   "execution_count": null,
   "metadata": {
    "colab": {
     "base_uri": "https://localhost:8080/"
    },
    "id": "feoMgUjfmKAH",
    "outputId": "6b001095-e9ea-4b77-c67f-bc71a44c9d6b"
   },
   "outputs": [],
   "source": [
    "example = \"We completed the project\"\n",
    "translation = decode_sequence(example)\n",
    "print(f\"'{example}' translated to - '{translation}'\")"
   ]
  },
  {
   "cell_type": "code",
   "execution_count": null,
   "metadata": {
    "colab": {
     "base_uri": "https://localhost:8080/"
    },
    "id": "DNuOABU_0251",
    "outputId": "426fd026-2d7c-4352-bb02-7bbed0177aa0"
   },
   "outputs": [],
   "source": [
    "example = \"The result was good.\"\n",
    "translation = decode_sequence(example)\n",
    "print(f\"'{example}' translated to - '{translation}'\")"
   ]
  },
  {
   "cell_type": "markdown",
   "metadata": {
    "id": "r5FqgZioPmty"
   },
   "source": [
    "# Evaluating the model using BLEU (Bilingual Evaluation Understandy)"
   ]
  },
  {
   "cell_type": "code",
   "execution_count": null,
   "metadata": {
    "colab": {
     "base_uri": "https://localhost:8080/"
    },
    "id": "RThTccJJQJEq",
    "outputId": "5e2b82f4-bde0-4d06-f583-17fd7562e51b"
   },
   "outputs": [],
   "source": [
    "!pip install nltk\n",
    "import nltk\n",
    "nltk.download('punkt')\n",
    "nltk.download('averaged_perceptron_tagger')\n",
    "nltk.download('wordnet')"
   ]
  },
  {
   "cell_type": "code",
   "execution_count": null,
   "metadata": {
    "colab": {
     "base_uri": "https://localhost:8080/"
    },
    "id": "-585kH_7PmQr",
    "outputId": "edf6a36a-5c69-4413-fca3-2ee66a389352"
   },
   "outputs": [],
   "source": [
    "import numpy as np\n",
    "\n",
    "from nltk.translate.bleu_score import sentence_bleu\n",
    "\n",
    "input_sentence, translated_sentence = test_df.iloc[np.random.randint(0, len(test_df))]\n",
    "\n",
    "reference = translated_sentence.split()\n",
    "hypothesis = decode_sequence(input_sentence).split()\n",
    "\n",
    "BLEUscore = nltk.translate.bleu_score.sentence_bleu([reference], hypothesis, weights = (0.5, 0.5))\n",
    "\n",
    "print('BLEU score -> {}'.format(BLEUscore))"
   ]
  }
 ],
 "metadata": {
  "accelerator": "GPU",
  "colab": {
   "gpuType": "T4",
   "provenance": [],
   "toc_visible": true
  },
  "kaggle": {
   "accelerator": "gpu",
   "dataSources": [
    {
     "datasetId": 592212,
     "sourceId": 1067156,
     "sourceType": "datasetVersion"
    }
   ],
   "isGpuEnabled": true,
   "isInternetEnabled": true,
   "language": "python",
   "sourceType": "notebook"
  },
  "kernelspec": {
   "display_name": "tf_env",
   "language": "python",
   "name": "tf_env"
  },
  "language_info": {
   "codemirror_mode": {
    "name": "ipython",
    "version": 3
   },
   "file_extension": ".py",
   "mimetype": "text/x-python",
   "name": "python",
   "nbconvert_exporter": "python",
   "pygments_lexer": "ipython3",
   "version": "3.9.21"
  }
 },
 "nbformat": 4,
 "nbformat_minor": 4
}
